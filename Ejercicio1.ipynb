{
 "cells": [
  {
   "cell_type": "markdown",
   "id": "a310201d",
   "metadata": {},
   "source": [
    "    APARTADO A)"
   ]
  },
  {
   "cell_type": "code",
   "execution_count": null,
   "id": "42046f7b",
   "metadata": {},
   "outputs": [],
   "source": [
    "class Camion:\n",
    "    def __init__(self, patente, carga, marca, anio):\n",
    "        self.patente = patente\n",
    "        self.marca = marca\n",
    "        self.carga = carga\n",
    "        self.anio = anio\n",
    "\n",
    "    def __str__(self):\n",
    "        return f\"Camión: #{self.patente} \\nCarga: {self.carga} \\nMarca: {self.marca} \\nAño: {self.anio}\"\n",
    "\n",
    "\n",
    "# a. Indicá qué devuelven las siguientes expresiones. Analizalo con tus compañeros y luego ejecutá las instrucciones en la máquina para comprobar tu respuesta.\n",
    "\n",
    "furgon1 = Camion(\"ABC123\",1000,\"Mercedes\",2020) \n",
    "furgon2 = furgon1\n",
    "furgon3 = Camion(\"DEF456\",2000,\"Volvo\",2021)\n",
    "furgon4 = Camion(\"ABC123\", 1000,\"Mercedes\",2020)\n",
    "\n",
    "# print(furgon1 == furgon2) # True \n",
    "# print(furgon1 is furgon2) # True\n",
    "# print(furgon3 == furgon4) # False \n",
    "# print(furgon3 is furgon4) # False\n",
    "# print(furgon1 == furgon4) # False "
   ]
  },
  {
   "cell_type": "markdown",
   "id": "989ea5a0",
   "metadata": {},
   "source": [
    "    APARTADO B)"
   ]
  },
  {
   "cell_type": "code",
   "execution_count": null,
   "id": "65e2d0e5",
   "metadata": {},
   "outputs": [],
   "source": [
    "# b. Modificá el código dado para que la comparación de dos objetos de la clase Camion devuelva True cuando todos sus atributos sean iguales.\n",
    "\n",
    "print(furgon1 == furgon2) \n",
    "print(furgon1 is furgon2) \n",
    "print(furgon3 == furgon4) \n",
    "print(furgon3 is furgon4) \n",
    "print(furgon1 == furgon4)"
   ]
  },
  {
   "cell_type": "markdown",
   "id": "95ce8366",
   "metadata": {},
   "source": [
    "    APARTADO C)\n",
    "\n",
    "Qué atributo hace único a nuestros objetos? Identificá el atributo que hace único al objeto Camion y \n",
    "modificá el código para que la \n",
    "comparación de dos objetos de la clase Camion devuelva True cuando ese atributo sea igual."
   ]
  },
  {
   "cell_type": "code",
   "execution_count": null,
   "id": "2235678f",
   "metadata": {},
   "outputs": [],
   "source": [
    "class Camion:\n",
    "    def __init__(self, patente, carga, marca, anio):\n",
    "        self.patente = patente\n",
    "        self.marca = marca\n",
    "        self.carga = carga\n",
    "        self.anio = anio\n",
    "\n",
    "    def __str__(self):\n",
    "        return f\"Camión: #{self.patente} \\nCarga: {self.carga} \\nMarca: {self.marca} \\nAño: {self.anio}\"\n",
    "    \n",
    "    def __eq__(self1, self2):\n",
    "        if not isinstance(self2,Camion):\n",
    "            return False\n",
    "        else:\n",
    "            return ( self1.patente == self2.patente )\n",
    "\n",
    "\n",
    "print(furgon1 == furgon2) \n",
    "print(furgon1 is furgon2) \n",
    "print(furgon3 == furgon4) \n",
    "print(furgon3 is furgon4) \n",
    "print(furgon1 == furgon4)"
   ]
  },
  {
   "cell_type": "markdown",
   "id": "98fb23a9",
   "metadata": {},
   "source": [
    "    APARTADO D)\n",
    "\n",
    "Si dos personas tienen el mismo DNI, entonces... \n",
    "¡Son la misma persona! ¿Cómo evitarías asignar el mismo \n",
    "DNI a dos personas distintas? Siguiendo esta analogía, \n",
    "adaptá el código anterior para el caso de los camiones."
   ]
  },
  {
   "cell_type": "code",
   "execution_count": null,
   "id": "6beaa906",
   "metadata": {},
   "outputs": [],
   "source": [
    "\n",
    "'''\n",
    "patente = set(Camion.patente)\n",
    "letra = random.choice(string.ascii_uppercase)\n",
    "numero = random.choice(string.digits)\n",
    "\n",
    "'''\n",
    "\n",
    "import random\n",
    "\n",
    "class Camion:\n",
    "    \n",
    "    patentes = set()\n",
    "    \n",
    "    @staticmethod\n",
    "    def asignar_patentes():  \n",
    "        valida = False\n",
    "        while not valida:\n",
    "            pat = ''\n",
    "            for i in range(4):\n",
    "                pat += chr(random.randint(65,90))\n",
    "            \n",
    "            for i in range(4):\n",
    "                pat += str(random.randint(0,9))\n",
    "            \n",
    "            if not pat in Camion.patentes:\n",
    "                valida = True\n",
    "        \n",
    "        return pat\n",
    "    \n",
    "    def __init__(self, carga, marca, anio):\n",
    "        self.patente = Camion.asignar_patentes()\n",
    "        self.marca = marca\n",
    "        self.carga = carga\n",
    "        self.anio = anio\n",
    "        Camion.patentes.add(self.patente)\n",
    "\n",
    "    def __str__(self):\n",
    "        return f\"Camión: #{self.patente} \\nCarga: {self.carga} \\nMarca: {self.marca} \\nAño: {self.anio}\"\n",
    "    \n",
    "    def __eq__(self1, self2):\n",
    "        if not isinstance(self2,Camion):\n",
    "            return False\n",
    "        else:\n",
    "            return (self1.patente == self2.patente and self1.carga == self2.carga and self2.marca==self1.marca and self2.anio==self1.anio )\n",
    "\n",
    "\n",
    "\n",
    "furgon1 = Camion(1000,\"Mercedes\",2020) \n",
    "furgon2 = furgon1\n",
    "furgon3 = Camion(2000,\"Volvo\",2021)\n",
    "furgon4 = Camion(1000,\"Mercedes\",2020)    \n",
    "        \n",
    "\n",
    "print(furgon1)       \n",
    "            \n"
   ]
  },
  {
   "cell_type": "markdown",
   "id": "156a5f82",
   "metadata": {},
   "source": [
    "    APARTADO E)"
   ]
  },
  {
   "cell_type": "code",
   "execution_count": null,
   "id": "0eb4cf58",
   "metadata": {},
   "outputs": [],
   "source": [
    "# Creá un pequeño menú que te permita:\n",
    "\n",
    "# 1. Registrar un nuevo camión.\n",
    "# 2. Modificar la carga de un camión.\n",
    "# 3. Mostrar por terminal la lista de camiones registrados, \n",
    "# del más antiguo al más moderno.\n",
    "# 4. Mostrar por terminal la marca que más veces fue registrada.\n",
    "\n",
    "\n",
    "\n",
    "\n"
   ]
  }
 ],
 "metadata": {
  "language_info": {
   "name": "python"
  }
 },
 "nbformat": 4,
 "nbformat_minor": 5
}
